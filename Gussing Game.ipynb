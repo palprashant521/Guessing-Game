{
 "cells": [
  {
   "cell_type": "code",
   "execution_count": 13,
   "id": "910d11f7",
   "metadata": {},
   "outputs": [],
   "source": [
    "# Guessing Game\n",
    "\n",
    "import random\n",
    "\n",
    "def guess(x):\n",
    "    \n",
    "    random_number = random.randint(1,3)\n",
    "    \n",
    "    print(\"***Welcom to the guessing game***\")\n",
    "    print('\\n')\n",
    "    user_choice = f\"User choice is: {x}\"\n",
    "    \n",
    "    print(user_choice)\n",
    "    print('\\n')\n",
    "    computer_choice = random_number\n",
    "    ck = f\"The computer choice is: {computer_choice}\"\n",
    "    print(ck)\n",
    "    print('\\n')\n",
    "    if computer_choice == x:\n",
    "        \n",
    "        return 'Your choice is correct.'\n",
    "    else:\n",
    "        return 'Sorry you guessed it wrong.'"
   ]
  },
  {
   "cell_type": "code",
   "execution_count": 16,
   "id": "5b4260e3",
   "metadata": {},
   "outputs": [
    {
     "name": "stdout",
     "output_type": "stream",
     "text": [
      "***Welcom to the guessing game***\n",
      "\n",
      "\n",
      "User choice is: 1\n",
      "\n",
      "\n",
      "The computer choice is: 1\n",
      "\n",
      "\n"
     ]
    },
    {
     "data": {
      "text/plain": [
       "'Your choice is correct.'"
      ]
     },
     "execution_count": 16,
     "metadata": {},
     "output_type": "execute_result"
    }
   ],
   "source": [
    "guess(1)"
   ]
  },
  {
   "cell_type": "code",
   "execution_count": 1,
   "id": "c14f6463",
   "metadata": {},
   "outputs": [
    {
     "name": "stdout",
     "output_type": "stream",
     "text": [
      "Guess the number between 1 and 3: 2\n",
      "sorry guess again. too low\n",
      "Guess the number between 1 and 3: 3\n",
      "Yay! you got it bro.\n"
     ]
    }
   ],
   "source": [
    "import random\n",
    "\n",
    "def guess(x):\n",
    "    \n",
    "    random_number = random.randint(1,x)\n",
    "    guess = 0\n",
    "    while guess != random_number:\n",
    "        guess = int(input(f'Guess the number between 1 and {x}: '))\n",
    "        if guess < random_number:\n",
    "            \n",
    "            print('sorry guess again. too low')\n",
    "            \n",
    "        elif guess>random_number:\n",
    "            print('sorry, guess again. too high.')\n",
    "    print('Yay! you got it bro.')   \n",
    "        \n",
    "guess(3)"
   ]
  },
  {
   "cell_type": "code",
   "execution_count": null,
   "id": "b86e2b5e",
   "metadata": {},
   "outputs": [],
   "source": []
  }
 ],
 "metadata": {
  "kernelspec": {
   "display_name": "Python 3",
   "language": "python",
   "name": "python3"
  },
  "language_info": {
   "codemirror_mode": {
    "name": "ipython",
    "version": 3
   },
   "file_extension": ".py",
   "mimetype": "text/x-python",
   "name": "python",
   "nbconvert_exporter": "python",
   "pygments_lexer": "ipython3",
   "version": "3.8.8"
  }
 },
 "nbformat": 4,
 "nbformat_minor": 5
}
